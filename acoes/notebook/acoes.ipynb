{
 "metadata": {
  "language_info": {
   "codemirror_mode": {
    "name": "ipython",
    "version": 3
   },
   "file_extension": ".py",
   "mimetype": "text/x-python",
   "name": "python",
   "nbconvert_exporter": "python",
   "pygments_lexer": "ipython3",
   "version": "3.8.5-final"
  },
  "orig_nbformat": 2,
  "kernelspec": {
   "name": "python3",
   "language": "python",
   "display_name": "Python 3"
  }
 },
 "nbformat": 4,
 "nbformat_minor": 2,
 "cells": [
  {
   "source": [
    "### Ideia \n",
    "#### Buscar qual é o prazo em que sempre que uma ação desceu X% (X=5) num intervalo D (2 < D < 10) de dias, a mesma ação subiu Y% (Y=5) num prazo R (2 < R < 10). Espaço de busca: X x D x Y x R = 10 * 8 * 10 * 8 = 6400 * 365 * 3\n",
    "#### Maximizar esta função de utilidade de forma a diminuir o risco. Ou seja, a quantidade de vezes que isso deu errado.\n",
    "\n",
    "####  Parâmetros da busca: Janela deslizante. Janelas de tamanho 2 a 10, deslocadas de 1 dia.\n",
    "####  Para cada tamanho de janela, encontrar todos os periodos que atendem as especificacoes (parametrizadas) de tamanho de queda e descartar aquelas que tenham alguma interseção.\n",
    "####  Testar quantos destes intervalos atendem a especificação de subida."
   ],
   "cell_type": "markdown",
   "metadata": {}
  },
  {
   "cell_type": "code",
   "execution_count": null,
   "metadata": {},
   "outputs": [],
   "source": [
    "import pandas as pd\n",
    "import seaborn as sns\n",
    "import datetime\n",
    "import numpy as np"
   ]
  },
  {
   "cell_type": "code",
   "execution_count": null,
   "metadata": {},
   "outputs": [],
   "source": [
    "bdr_metadata = pd.read_excel(\"../doc/lista_bdrs.xls\")\n",
    "df = pd.read_csv(\"../data/output/consolidado/bdrs_consolidado.csv\")\n",
    "df = df[['data_pregao', 'cod_bdi', 'cod_papel', 'nome_resum', 'preco_ultimo']]\n",
    "df_bdi2 = df[(df['cod_bdi']==2)] # df['cod_papel']=='NVDC34') & \n",
    "del df_bdi2['cod_bdi']\n",
    "df_bdi2.drop_duplicates(subset=['data_pregao', 'cod_papel'], inplace=True)\n",
    "df_bdi2['data_pregao'] = pd.to_datetime(df_bdi2['data_pregao'], format=\"%Y-%m-%d %H:%M:%S\")"
   ]
  },
  {
   "cell_type": "code",
   "execution_count": null,
   "metadata": {},
   "outputs": [],
   "source": [
    "# sns.lineplot(data=df_nvidia, x=\"data_pregao\", y=\"preco_ultimo\")\n",
    "\n",
    "def generate_windows(start, end, lenght):\n",
    "    d1 = datetime.strptime(start, \"%Y-%m-%d\")\n",
    "    d2 = datetime.strptime(end, \"%Y-%m-%d\")\n",
    "    diff = d2 - d1\n",
    "    days_list = [(d1 + datetime.timedelta(i), d1 + datetime.timedelta(i+lenght)) for i in range(diff.days + 1)]\n",
    "    return days_list\n",
    "\n",
    "def filter_decreasing_periods(df, plenght, decr_percent):\n",
    "    df['end_decr_period'] = df['data_pregao'].apply(lambda x: x + datetime.timedelta(plenght))\n",
    "    df_result = df.merge(right=df[['data_pregao', 'end_decr_period', 'preco_ultimo']], left_on='data_pregao', right_on=\"end_decr_period\", suffixes=[\"\", \"_y\"])\n",
    "    df_result['decr_pct'] = (df_result['preco_ultimo_y'] - df_result['preco_ultimo']) / df_result['preco_ultimo']\n",
    "    df_result = df_result[df_result['decr_pct'] < decr_percent ]\n",
    "    return df_result\n",
    "\n",
    "def eliminate_overlap(df):\n",
    "    \"\"\"Eliminates overlaps between date range periods\"\"\"\n",
    "\n",
    "    date_tuples = list(df[['data_pregao_y', 'data_pregao']].itertuples(index=False))\n",
    "    for start, end in date_tuples:\n",
    "        sel = (df['data_pregao_y'] > start) & (df['data_pregao_y'] < end)\n",
    "        df = df[~sel]\n",
    "    del df['data_pregao_y'], df['end_decr_period_y']\t\n",
    "    return df\n",
    "\n",
    "def eliminate_small_gains(input_df, df_stock, mingoal, plenght):\n",
    "    input_df['end_incr_period'] = input_df['end_decr_period'].apply(lambda x: x + datetime.timedelta(plenght))\n",
    "    df_inc = input_df.merge(right=df_stock[['data_pregao', 'preco_ultimo']], left_on='end_incr_period', right_on=\"data_pregao\", suffixes=[\"\", \"_z\"])\n",
    "    df_inc['incr_pct'] = (df_inc['preco_ultimo_z'] - df_inc['preco_ultimo_y']) / df_inc['preco_ultimo_y']\n",
    "    # del df_inc['data_pregao_z']\n",
    "    return df_inc[df_inc['incr_pct'] > mingoal]\n",
    "\n",
    "def analyze_all_stocks(df, stocks_col, plenght, decr_percent, mingoal):\n",
    "    \"\"\"Iterate over all stocks\"\"\"\n",
    "    stocks = df[stocks_col].unique()\n",
    "    results = pd.DataFrame(data={\"pct_total\": [np.nan]*len(stocks), \n",
    "                                \"pct_success\": [np.nan]*len(stocks),\n",
    "                                \"n_occurrences\": [np.nan]*len(stocks), \n",
    "                                \"mean_price\": [np.nan]*len(stocks), \n",
    "                                \"metric\": [np.nan]*len(stocks)}, index=stocks)\n",
    "    results.index.name = \"stocks\"\n",
    "    for s in stocks:\n",
    "        df_stock = df[df[stocks_col] == s]\n",
    "        df_decreasing = filter_decreasing_periods(df_stock, plenght, decr_percent)\n",
    "        df_el = eliminate_overlap(df_decreasing)\n",
    "        if df_el.shape[0] == 0:\n",
    "            results.loc[s, \"pct_total\"] = 0\n",
    "            results.loc[s, \"pct_success\"] = 0\n",
    "            results.loc[s, \"n_occurrences\"] = 0\n",
    "            continue\n",
    "        df_goal = eliminate_small_gains(df_el, df_stock, mingoal, plenght)\n",
    "        results.loc[s, \"pct_total\"] = df_goal.shape[0]/df_stock.shape[0]\n",
    "        results.loc[s, \"pct_success\"] = df_goal.shape[0]/df_el.shape[0]\n",
    "        results.loc[s, \"n_occurrences\"] = df_goal.shape[0]\n",
    "        results.loc[s, \"mean_price\"] = df_goal['preco_ultimo_z'].mean()\n",
    "        results.loc[s, \"metric\"] = df_goal.shape[0]*df_goal.shape[0]/df_el.shape[0]\n",
    "\n",
    "    return results"
   ]
  },
  {
   "cell_type": "code",
   "execution_count": null,
   "metadata": {},
   "outputs": [],
   "source": [
    "lplen = range(1,11)\n",
    "ldecr = np.arange(0.03, 0.08, 0.01)\n",
    "mean_success = 0\n",
    "record = None\n",
    "count = 0\n",
    "for pl in lplen:\n",
    "    count += 1\n",
    "    if count %10 == 0:\n",
    "        print(count, mean_success)\n",
    "    df_result = analyze_all_stocks(df_bdi2, stocks_col='cod_papel', plenght=pl, decr_percent=0.03, mingoal=0.03)\n",
    "    curr_mean = df_result['metric'].mean()\n",
    "    if curr_mean > mean_success:\n",
    "        mean_success = curr_mean\n",
    "        record = df_result\n",
    "        print(pl, curr_mean)"
   ]
  },
  {
   "cell_type": "code",
   "execution_count": null,
   "metadata": {},
   "outputs": [],
   "source": [
    "df_result = analyze_all_stocks(df_bdi2, stocks_col='cod_papel', plenght=5, decr_percent=0.03, mingoal=0.03)"
   ]
  },
  {
   "cell_type": "code",
   "execution_count": null,
   "metadata": {},
   "outputs": [],
   "source": [
    "# record[record['pct_success'] > 0.4]\n",
    "df_result.sort_values(by='metric', ascending=False).head(20)"
   ]
  },
  {
   "cell_type": "code",
   "execution_count": null,
   "metadata": {},
   "outputs": [],
   "source": [
    "df_melt = df_result.reset_index().melt(id_vars=['index'], value_vars=['pct_success'])\n",
    "df_merge = df_melt.merge(right=bdr_metadata, left_on=\"index\", right_on=\"CÓDIGO\")\n",
    "df_melt2 = df_result.reset_index().melt(id_vars=['index'], value_vars=['pct_total'])\n",
    "df_merge2 = df_melt2.merge(right=bdr_metadata, left_on=\"index\", right_on=\"CÓDIGO\")"
   ]
  },
  {
   "cell_type": "code",
   "execution_count": null,
   "metadata": {},
   "outputs": [],
   "source": [
    "sns.catplot(kind=\"box\", data=df_merge, x=\"SETOR\", y=\"value\", order=df_merge['SETOR'].value_counts().head(10).index, aspect = 3)"
   ]
  },
  {
   "cell_type": "code",
   "execution_count": null,
   "metadata": {},
   "outputs": [],
   "source": [
    "sns.catplot(kind=\"box\", data=df_merge2, x=\"SETOR\", y=\"value\", order=df_merge['SETOR'].value_counts().head(10).index, aspect = 3)"
   ]
  },
  {
   "cell_type": "code",
   "execution_count": null,
   "metadata": {},
   "outputs": [],
   "source": [
    "stock_list = ['TSLA34', 'NVDC34', 'AMZO34', 'MSFT34', 'AAPL34', 'GOGL34', 'HOME34', 'NFLX34', 'U1BE34', 'TEXA34']\n",
    "df_dez = pd.read_csv(\"../data/output/consolidado/bdrs_consolidado_dez.csv\")\n",
    "df_selected = df_dez[df_dez['cod_papel'].isin(stock_list)]\n",
    "df_selected.pivot(index='cod_papel', columns='data_pregao', values='preco_ultimo')"
   ]
  },
  {
   "cell_type": "code",
   "execution_count": null,
   "metadata": {},
   "outputs": [],
   "source": []
  }
 ]
}