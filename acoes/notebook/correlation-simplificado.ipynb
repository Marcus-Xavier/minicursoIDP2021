{
 "cells": [
  {
   "cell_type": "code",
   "execution_count": null,
   "metadata": {
    "pycharm": {
     "name": "#%%\n"
    }
   },
   "outputs": [],
   "source": [
    "###### Lista de bibliotecas #####\n",
    "# Numpy: biblioteca de calculo numerico do python\n",
    "# pandas: biblioteca para operação sobre dados tabulares\n",
    "# matplotlib: biblioteca para plotar gráficos\n",
    "# seaborn: biblioteca de alto nível para plotar gráficos baseados no matplotlib\n",
    "# yahooquery: biblioteca para consultar dados do Yahoo Finance\n",
    "\n",
    "###### Instalação de bibliotecas #####\n",
    "# Use o seguinte comando: !pip install <nome_biblioteca>\n",
    "# Exemplo: !pip install yahooquery"
   ]
  },
  {
   "cell_type": "code",
   "execution_count": null,
   "metadata": {
    "pycharm": {
     "name": "#%%\n"
    }
   },
   "outputs": [],
   "source": [
    "import numpy as np\n",
    "import pandas as pd\n",
    "import datetime\n",
    "import matplotlib.pyplot as plt\n",
    "import seaborn as sns\n",
    "from yahooquery import Ticker"
   ]
  },
  {
   "cell_type": "code",
   "execution_count": null,
   "metadata": {},
   "outputs": [],
   "source": [
    "# Definir uma lista de simbolos (ações) de interesse\n",
    "symbols_list = ['AMZN', 'WMT']\n",
    "# Criar um objeto Ticker (para fazer o download de dados de cotação de ações)\n",
    "tc = Ticker(symbols_list)\n",
    "# Fazer o download de dados de um período de 60 dias, com intervalor de 1d entre cada medição\n",
    "# Lista de períodos e intervalos possíveis: https://yahooquery.dpguthrie.com/guide/ticker/historical/\n",
    "df = tc.history(period='10d', interval=\"1d\")\n",
    "# Mostrar os primeiros 5 registros do dataframe df\n",
    "df = df['close']\n",
    "df.head()"
   ]
  },
  {
   "cell_type": "code",
   "execution_count": null,
   "metadata": {},
   "outputs": [],
   "source": [
    "# Converter o índice (multi-nível) em colunas\n",
    "df_reset = df.reset_index()\n",
    "df_reset.head()"
   ]
  },
  {
   "cell_type": "code",
   "execution_count": null,
   "metadata": {},
   "outputs": [],
   "source": [
    "# Criar uma nova coluna com a data do dia anterior\n",
    "df_reset['ontem'] = df_reset['date'].apply(lambda x: x + datetime.timedelta(days=1))\n",
    "df_reset"
   ]
  },
  {
   "cell_type": "code",
   "execution_count": null,
   "metadata": {},
   "outputs": [],
   "source": [
    "# Realizar um merge da data atual com a data do dia anterior\n",
    "df_merge = df_reset.merge(right=df_reset, left_on=['symbol','date'], right_on=['symbol','ontem'], suffixes=[\"\", \"_desloc\"])\n",
    "df_merge.head()"
   ]
  },
  {
   "cell_type": "code",
   "execution_count": null,
   "metadata": {
    "scrolled": true
   },
   "outputs": [],
   "source": [
    "# Calcular a diferença percentual de um dia para o outro\n",
    "# (v_hoje - v_ontem ) / v_ontem\n",
    "df_merge['change_pct'] = (df_merge['close'] - df_merge['close_desloc']) / df_merge['close_desloc']\n",
    "df_merge"
   ]
  },
  {
   "cell_type": "code",
   "execution_count": null,
   "metadata": {},
   "outputs": [],
   "source": [
    "df_pivot = df_merge.pivot('date', 'symbol', 'change_pct')\n",
    "df_pivot"
   ]
  },
  {
   "cell_type": "code",
   "execution_count": null,
   "metadata": {},
   "outputs": [],
   "source": [
    "df_pivot.corr()"
   ]
  },
  {
   "cell_type": "code",
   "execution_count": null,
   "metadata": {},
   "outputs": [],
   "source": [
    "# Curiosidade: Plotar o gráfico da variação da cotação diária\n",
    "import seaborn as sns\n",
    "# Plotar um gráfico de linhas\n",
    "# data: dataframe com os dados\n",
    "# kind: tipo do grafico de relacionamento. Opções: scatter e line\n",
    "# x: nome da coluna a ser plotada no eixo x\n",
    "# y: nome da coluna a ser plotada no eixo y\n",
    "# hue: coluna de agregação, cujas séries serão representadas por cores distintas.\n",
    "sns.relplot(data=df_merge, kind='line', aspect=3, x='date', y='change_pct', hue='symbol')\n"
   ]
  },
  {
   "cell_type": "code",
   "execution_count": null,
   "metadata": {},
   "outputs": [],
   "source": []
  },
  {
   "cell_type": "code",
   "execution_count": null,
   "metadata": {
    "pycharm": {
     "name": "#%%\n"
    }
   },
   "outputs": [],
   "source": []
  }
 ],
 "metadata": {
  "kernelspec": {
   "display_name": "Python 3",
   "language": "python",
   "name": "python3"
  },
  "language_info": {
   "codemirror_mode": {
    "name": "ipython",
    "version": 3
   },
   "file_extension": ".py",
   "mimetype": "text/x-python",
   "name": "python",
   "nbconvert_exporter": "python",
   "pygments_lexer": "ipython3",
   "version": "3.8.3"
  }
 },
 "nbformat": 4,
 "nbformat_minor": 1
}
