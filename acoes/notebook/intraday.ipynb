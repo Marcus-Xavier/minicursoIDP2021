{
 "metadata": {
  "language_info": {
   "codemirror_mode": {
    "name": "ipython",
    "version": 3
   },
   "file_extension": ".py",
   "mimetype": "text/x-python",
   "name": "python",
   "nbconvert_exporter": "python",
   "pygments_lexer": "ipython3",
   "version": "3.8.5-final"
  },
  "orig_nbformat": 2,
  "kernelspec": {
   "name": "python3",
   "display_name": "Python 3.8.5 64-bit ('venv')",
   "metadata": {
    "interpreter": {
     "hash": "64bc4f054cbe287a9d679e0b3ac053ed0ca1ff7194c3c5d7a7fd6da83009f37a"
    }
   }
  }
 },
 "nbformat": 4,
 "nbformat_minor": 2,
 "cells": [
  {
   "source": [
    "### Ideia \n",
    "#### Buscar porcentagem de vezes em que sempre que uma ação desceu X% (X=5) no mesmo dia, a mesma ação subiu Y% (Y=5) no mesmo dia ou no dia seguinte. \n",
    "#### Maximizar esta função de utilidade de forma a diminuir o risco. Ou seja, analisar a quantidade de vezes que isso deu errado.\n",
    "\n",
    "####  Parâmetros da busca: Tamanho da queda e tamanho da recuperação.\n",
    "####  Para cada evento, encontrar todos os periodos que atendem as especificacoes (parametrizadas) de tamanho de queda e descartar aquelas que tenham alguma interseção.\n",
    "####  Testar quantos destes intervalos atendem a especificação de subida."
   ],
   "cell_type": "markdown",
   "metadata": {}
  },
  {
   "cell_type": "code",
   "execution_count": null,
   "metadata": {},
   "outputs": [],
   "source": [
    "import pandas as pd\n",
    "import seaborn as sns\n",
    "import datetime\n",
    "import numpy as np\n",
    "import matplotlib.pyplot as plt\n",
    "sns.set()"
   ]
  },
  {
   "cell_type": "code",
   "execution_count": null,
   "metadata": {},
   "outputs": [],
   "source": [
    "bdr_metadata = pd.read_excel(\"../doc/lista_bdrs.xls\")\n",
    "dfbdr = pd.read_csv(\"../data/output/consolidado/bdrs60d.csv\")\n",
    "dfbdr = dfbdr[['symbol', 'date', 'volume', 'close']]\n",
    "dfbdr['date_time'] = pd.to_datetime(dfbdr['date'], format=\"%Y-%m-%d %H:%M:%S\")\n",
    "dfbdr['date'] = dfbdr['date'].apply(lambda x: datetime.datetime.strptime(x, \"%Y-%m-%d %H:%M:%S\").strftime(\"%Y-%m-%d\"))\n",
    "dfbdr.set_index([\"symbol\", \"date_time\"], inplace=True)"
   ]
  },
  {
   "cell_type": "code",
   "execution_count": null,
   "metadata": {},
   "outputs": [],
   "source": [
    "def plot_cumsum(df, stock, start, decr_th, incr_th):\n",
    "    end = (datetime.datetime.strptime(start, \"%Y-%m-%d\") + datetime.timedelta(days=1)).strftime(\"%Y-%m-%d\")\n",
    "    df_stock = df.loc[stock]\n",
    "    df_stock = df_stock[df_stock['date'].isin([start, end])]\n",
    "    diff = df_stock['close'].diff()\n",
    "    csum = diff.cumsum()/df_stock.iloc[0, 2]\n",
    "    csum.name = \"changes\"\n",
    "    csum.index.name = \"date\"\n",
    "    df_csum = csum.reset_index()\n",
    "    g = sns.FacetGrid(df_csum, size=5, aspect=2)\n",
    "    g.map(sns.lineplot, \"date\", \"changes\")\n",
    "    ax1 = g.axes[0]\n",
    "    ax1[0].axhline(decr_th, ls='--', color=\"red\")\n",
    "    ax1[0].axhline(incr_th, ls='--', color=\"green\")\n",
    "    # sns.lineplot(data=csum[~sel], color=\"red\", ax=ax1[0])\n",
    "    plt.show()"
   ]
  },
  {
   "cell_type": "code",
   "execution_count": null,
   "metadata": {},
   "outputs": [],
   "source": [
    "plot_cumsum(dfbdr, stock='TSLA34.SA', start=\"2020-11-30\", decr_th=-0.05, incr_th=-0.02)"
   ]
  },
  {
   "cell_type": "code",
   "execution_count": null,
   "metadata": {},
   "outputs": [],
   "source": [
    "def filter_cumsum(df, stock, start, decr_th, incr_th):\n",
    "    end = (datetime.datetime.strptime(start, \"%Y-%m-%d\") + datetime.timedelta(days=1)).strftime(\"%Y-%m-%d\")\n",
    "    # print(stock, start, end)\n",
    "    df_stock = df.loc[stock]\n",
    "    df_stock = df_stock[df_stock['date'].isin([start, end])]\n",
    "    # print(df_stock)\n",
    "    if df_stock.shape[0] < 2:\n",
    "        return 0, 0, 0\n",
    "    diff = df_stock['close'].diff()\n",
    "    csum = diff.cumsum()/df_stock.iloc[0, 2]\n",
    "    csum.name=\"cumsum\"\n",
    "    th_sum = csum < decr_th\n",
    "    ths1 = th_sum.shift(1)\n",
    "    sel = ths1 | ~th_sum\n",
    "    sel.name = \"intervals\"\n",
    "    df_cumsum = csum.to_frame().join(sel).join(csum[sel] > incr_th, rsuffix=\"_sel\")\n",
    "    df_cumsum = df_cumsum.iloc[1:]\n",
    "    # print(df_stock['close'])\n",
    "    idx = df_cumsum['intervals'].eq(False).idxmax()\n",
    "    df_cumsum.loc[df_cumsum.index < idx,'cumsum_sel'] = False \n",
    "    df_cumsum[\"intervals_num\"] = df_cumsum[\"intervals\"].astype(int)\n",
    "    lenght = df_cumsum.loc[df_cumsum['intervals_num'] == 0, \"intervals_num\"].size\n",
    "    sel_index = df_cumsum.loc[df_cumsum['intervals'] == False].index.to_list()\n",
    "    if not sel_index:\n",
    "        return 0, 0, 0\n",
    "    sel_index.append(df_cumsum.iloc[-1, :].name.replace(hour=18))\n",
    "    for start, end, i in zip(sel_index[:-1], sel_index[1:], range(2, len(sel_index)+2)):\n",
    "        sel_range = (df_cumsum.index > start) & (df_cumsum.index < end)    \n",
    "        df_cumsum.loc[sel_range, \"intervals_num\"] = i\n",
    "\n",
    "    r = df_cumsum[['cumsum_sel', 'intervals_num']].groupby('intervals_num')['cumsum_sel'].sum()\n",
    "    num_events = (~sel[1:]).sum()\n",
    "    s = (r > 0).sum()\n",
    "    percent = s/num_events\n",
    "    return percent, num_events, s"
   ]
  },
  {
   "cell_type": "code",
   "execution_count": null,
   "metadata": {
    "tags": []
   },
   "outputs": [],
   "source": [
    "resultp = pd.DataFrame(columns=['symbol', 'date', 'percent', 'total_decr', 'num_postive_cycles'])   \n",
    "\n",
    "for stock in dfbdr.index.unique(level=0)[:-1]:\n",
    "    for d in dfbdr['date'].unique():\n",
    "        p, n, s = filter_cumsum(dfbdr, stock=stock, start=d, decr_th=-0.06, incr_th=-0.04)\n",
    "        resultp = resultp.append({'symbol': stock, 'date': d, 'percent': p, 'total_decr': int(n), 'num_postive_cycles': int(s)}, ignore_index=True)"
   ]
  },
  {
   "cell_type": "code",
   "execution_count": null,
   "metadata": {},
   "outputs": [],
   "source": [
    "resultp['percent'] = resultp['percent'].astype(float)\n",
    "resultp['total_decr'] = resultp['total_decr'].astype(float)\n",
    "resultp['num_postive_cycles'] = resultp['num_postive_cycles'].astype(float)\n",
    "# resultp.info()"
   ]
  },
  {
   "cell_type": "code",
   "execution_count": null,
   "metadata": {},
   "outputs": [],
   "source": [
    "sns.set(rc={'figure.figsize':(11.7,5.27)})\n",
    "ax = sns.lineplot(data=resultp, x=\"date\", y=\"percent\", hue=\"symbol\")\n",
    "ax.set_xticks([])"
   ]
  },
  {
   "cell_type": "code",
   "execution_count": null,
   "metadata": {},
   "outputs": [],
   "source": [
    "ax = sns.lineplot(data=resultp, x=\"date\", y=\"num_postive_cycles\", hue=\"symbol\")\n",
    "ax.set_xticks([])"
   ]
  },
  {
   "cell_type": "code",
   "execution_count": null,
   "metadata": {},
   "outputs": [],
   "source": [
    "ax = sns.lineplot(data=resultp, x=\"date\", y=\"total_decr\", hue=\"symbol\")\n",
    "ax.set_xticks([])"
   ]
  },
  {
   "cell_type": "code",
   "execution_count": null,
   "metadata": {},
   "outputs": [],
   "source": [
    "resultp[[\"total_decr\", \"num_postive_cycles\"]].sum(axis=0)"
   ]
  },
  {
   "cell_type": "code",
   "execution_count": null,
   "metadata": {},
   "outputs": [],
   "source": []
  }
 ]
}