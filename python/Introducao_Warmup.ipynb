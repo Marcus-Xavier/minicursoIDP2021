{
 "cells": [
  {
   "cell_type": "markdown",
   "metadata": {},
   "source": [
    "# Warm-up de sintaxe da linguagem Python"
   ]
  },
  {
   "cell_type": "markdown",
   "metadata": {},
   "source": [
    "### Treinando sentenças com if e else"
   ]
  },
  {
   "cell_type": "markdown",
   "metadata": {},
   "source": [
    "#### W1.0 Traduza o seguinte pseudo-código para a linguagem python"
   ]
  },
  {
   "cell_type": "code",
   "execution_count": null,
   "metadata": {},
   "outputs": [],
   "source": [
    "# se 17*17 > 400 entao\n",
    "#    imprima o texto \"Condição verdadeira\"\n",
    "# se não\n",
    "#    imprima o texto \"Condição falsa\""
   ]
  },
  {
   "cell_type": "code",
   "execution_count": null,
   "metadata": {},
   "outputs": [],
   "source": [
    "# Faça aqui\n"
   ]
  },
  {
   "cell_type": "markdown",
   "metadata": {},
   "source": [
    "### Treinando conversão de Tipos\n",
    "#### W1.1 Converta as seguintes variáveis para inteiro e realize as operações solicitadas a seguir."
   ]
  },
  {
   "cell_type": "code",
   "execution_count": null,
   "metadata": {},
   "outputs": [],
   "source": [
    "# Dica: use a função int() que recebe uma string como argumento e retorna um inteiro\n",
    "a = \"5\"\n",
    "b = \"6\"\n"
   ]
  },
  {
   "cell_type": "code",
   "execution_count": null,
   "metadata": {},
   "outputs": [],
   "source": [
    "# Multiplique os dois numeros que você converteu para inteiros na célula acima\n"
   ]
  },
  {
   "cell_type": "code",
   "execution_count": null,
   "metadata": {},
   "outputs": [],
   "source": [
    "# Converta a soma da célula acima para float\n",
    "# Dica: use a função float()\n"
   ]
  },
  {
   "cell_type": "markdown",
   "metadata": {},
   "source": [
    "### Treinando Laços (loops) do tipo for"
   ]
  },
  {
   "cell_type": "code",
   "execution_count": null,
   "metadata": {},
   "outputs": [],
   "source": [
    "# Considere a lista a a seguir:\n",
    "lista_str = [\"234sewerawe\", \"abasdreera\", \"rtydeaera\", \"agwdeaer\", \"nsedert\", \n",
    "         \"ab23ea\", \"qycde\", \"ajyd\", \"akm\", \"wb\", \"r\"]"
   ]
  },
  {
   "cell_type": "markdown",
   "metadata": {},
   "source": [
    "#### W1.2 usando um loop do tipo for, percorra a lista_str acima deixando as strings em maiúsculo desde o primeiro até o 4o elemento desta lista (ou seja, elemento de índice 3).\n",
    "\n"
   ]
  },
  {
   "cell_type": "code",
   "execution_count": null,
   "metadata": {},
   "outputs": [],
   "source": [
    "# Faça aqui\n"
   ]
  },
  {
   "cell_type": "markdown",
   "metadata": {},
   "source": [
    "#### W1.3 Percorra a lista_str acima excluindo os elementos da lista que terminam com vogal\n",
    "#### Dica: teste se um caracter é uma vogal assim: charac in [\"a\", \"b\", \"c\", \"d\", \"e\"]\n",
    "\n"
   ]
  },
  {
   "cell_type": "code",
   "execution_count": null,
   "metadata": {},
   "outputs": [],
   "source": [
    "# Faça aqui\n"
   ]
  },
  {
   "cell_type": "markdown",
   "metadata": {},
   "source": [
    "#### W1.4 Percorra a lista_str acima excluindo os elementos da lista que não terminam com vogal\n",
    "#### Dica: teste se um caracter não é uma vogal assim: charac not in [\"a\", \"b\", \"c\", \"d\", \"e\"]\n",
    "\n"
   ]
  },
  {
   "cell_type": "code",
   "execution_count": null,
   "metadata": {},
   "outputs": [],
   "source": [
    "# Faça aqui\n"
   ]
  },
  {
   "cell_type": "markdown",
   "metadata": {},
   "source": [
    "### Formando uma string"
   ]
  },
  {
   "cell_type": "markdown",
   "metadata": {},
   "source": [
    "#### W1.5 Crie uma string genérica (parametrizável) que seja capaz de gerar a string apresentada abaixo"
   ]
  },
  {
   "cell_type": "code",
   "execution_count": null,
   "metadata": {},
   "outputs": [],
   "source": [
    "# Crie uma string parametrizável que atenda este exemplo: # \"a=6, b=9, a+b=15, a*b=54\"\n",
    "\n",
    "# Aplique a parametrização para os valores:\n",
    "# a=100 e b=80\n",
    "\n",
    "\n",
    "# a=700 e b=860\n"
   ]
  },
  {
   "cell_type": "markdown",
   "metadata": {},
   "source": [
    "# Listas em Python"
   ]
  },
  {
   "cell_type": "markdown",
   "metadata": {},
   "source": [
    "### Treinando conceitos sobre listas em python"
   ]
  },
  {
   "cell_type": "markdown",
   "metadata": {},
   "source": [
    "#### W1.6 Crie as listas solicitadas a seguir"
   ]
  },
  {
   "cell_type": "code",
   "execution_count": null,
   "metadata": {},
   "outputs": [],
   "source": [
    "# 1) Crie uma lista de números inteiros\n",
    "\n",
    "# 2) Crie uma lista de booleanos\n",
    "\n",
    "# 3) Crie uma lista de strings\n",
    "\n",
    "\n",
    "\n"
   ]
  },
  {
   "cell_type": "markdown",
   "metadata": {},
   "source": [
    "### Slicing (fatiar)"
   ]
  },
  {
   "cell_type": "code",
   "execution_count": null,
   "metadata": {},
   "outputs": [],
   "source": [
    "# Veja os exercicios respondidos a seguir:\n",
    "\n",
    "# 1) Criar uma lista com vários elementos\n",
    "al = [2, 4, 0, 3, 7, 10, 4, 5]\n",
    "# 2) Imprimir os elementos de índice 0 a 3 (são os 4 primeiros elementos)\n",
    "print(al[0:3])  # De zero a 3\n",
    "# 3) Imprimir os elementos de índice 0 a 4, suprimindo o parametro esquerdo do intervalo\n",
    "print(al[:4])   # De zero a 4\n",
    "# 4) Imprimir os elementos de índice 2 até o último\n",
    "print(al[2:])   # De 2 até o último\n",
    "# 5) Imprimir o último elemento\n",
    "print(al[-1])   # O último elemento\n",
    "# 6) Imprimir a cada dois elementos, começando do zero\n",
    "print(al[::2])  # A cada dois elementos\n",
    "# 7) Imprimir os elementos espelhados/revertidos\n",
    "print(al[::-1]) # Reverter/espelhar os elementos\n",
    "# 8) Atribuir uma lista a um slice (uma parte) da lista original\n",
    "al[1:3] = [8, 8]\n",
    "print(al)\n",
    "\n",
    "# Agora treine seus conhecimentos nas próximas células"
   ]
  },
  {
   "cell_type": "markdown",
   "metadata": {},
   "source": [
    "#### W1.7 Selecione os elementos da lista5 especificados a seguir"
   ]
  },
  {
   "cell_type": "code",
   "execution_count": null,
   "metadata": {},
   "outputs": [],
   "source": [
    "# Considere a seguinte lista\n",
    "lista5 = [\"awerr\", \"aa\", \"sssaere\", False, True, None, 9., 0., 9., 104, 20, 1]\n",
    "# 1) Retorne o primeiro elemento da lista\n",
    "\n",
    "# 2) Retorne o último elemento da lista\n",
    "\n",
    "# 3) Retorne os 3 ultimos elementos da lista\n",
    "\n",
    "# 4) Retorne elementos espaçados a cada 3 elementos, a partir do índice 0\n",
    "\n",
    "# 5) Retorne a lista na ordem inversa\n",
    "\n"
   ]
  },
  {
   "cell_type": "markdown",
   "metadata": {},
   "source": [
    "#### W1.8 Faça um código python para encontrar os elementos de uma lista de strings cujo tamanho seja maior que 3 caracteres e os dois últimos sejam iguais."
   ]
  },
  {
   "cell_type": "code",
   "execution_count": null,
   "metadata": {},
   "outputs": [],
   "source": [
    "lista = [\"awerr\", \"aa\", \"awyt\", \"g\", \"sssaeee\"]\n",
    "# Faça aqui\n",
    "\n"
   ]
  },
  {
   "cell_type": "markdown",
   "metadata": {},
   "source": [
    "#### W1.9 Usando um loop do tipo for encontre a interseção entre duas listas"
   ]
  },
  {
   "cell_type": "code",
   "execution_count": null,
   "metadata": {},
   "outputs": [],
   "source": [
    "lista1 = [\"awerr\", \"aa\", \"awyt\", \"g\", \"sssaere\"]\n",
    "lista2 = [\"awerr\", \"aa\", \"sssaere\", \"aabb\", \"qwerttt\", \"12345\"]\n",
    "\n",
    "# Faça aqui\n",
    "\n"
   ]
  },
  {
   "cell_type": "markdown",
   "metadata": {},
   "source": [
    "#### W1.10 Usando um loop do tipo for encontre os elementos que estão na lista1 mas não estão na lista 2."
   ]
  },
  {
   "cell_type": "code",
   "execution_count": null,
   "metadata": {},
   "outputs": [],
   "source": [
    "lista1 = [\"awerr\", \"aa\", \"awyt\", \"g\", \"sssaere\"]\n",
    "lista2 = [\"awerr\", \"aa\", \"sssaere\", \"aabb\", \"qwerttt\", \"12345\"]\n",
    "# Faça aqui\n",
    "\n"
   ]
  },
  {
   "cell_type": "markdown",
   "metadata": {},
   "source": [
    "#### W1.11 Usando um loop do tipo for encontre os elementos que não estão na intersecção das duas listas."
   ]
  },
  {
   "cell_type": "code",
   "execution_count": null,
   "metadata": {},
   "outputs": [],
   "source": [
    "lista1 = [\"awerr\", \"aa\", \"awyt\", \"g\", \"sssaere\"]\n",
    "lista2 = [\"awerr\", \"aa\", \"sssaere\", \"aabb\", \"qwerttt\", \"12345\"]\n",
    "# Faça aqui\n",
    "\n"
   ]
  },
  {
   "cell_type": "markdown",
   "metadata": {},
   "source": [
    "#### W1.12 Crie código python para inverter a ordem de duas palavras que aparecem em frases do tipo: \"pera e banana\""
   ]
  },
  {
   "cell_type": "code",
   "execution_count": null,
   "metadata": {},
   "outputs": [],
   "source": [
    "# Exemplo: para a entrada \"pera e banana\", o resultado esperado é \"banana e pera\"\n",
    "frase = \"pera e banana\"\n",
    "# Faça aqui\n",
    "\n"
   ]
  },
  {
   "cell_type": "markdown",
   "metadata": {},
   "source": [
    "#### W1.13 Encontre a mediana de uma lista de numeros inteiros.\n",
    "#### Para calcular a mediana, ordene a lista e retorne o elemento do centro. Se a quantidade de elementos for par, retorne a média dos dois elementos do centro."
   ]
  },
  {
   "cell_type": "code",
   "execution_count": null,
   "metadata": {},
   "outputs": [],
   "source": [
    "lista3 = [9, 0, 9, 8, 20, 4, 7, 6, 8, 22, 0, 50, 104, 20, 1]\n",
    "lista4 = [9, 0, 9, 8, 20, 4, 7, 6, 8, 22, 0, 50, 104, 20]\n",
    "# Calcule a mediana das listas lista3 e lista4\n"
   ]
  },
  {
   "cell_type": "markdown",
   "metadata": {},
   "source": [
    "## Funções Lambda"
   ]
  },
  {
   "cell_type": "markdown",
   "metadata": {},
   "source": [
    "#### W1.14 Crie uma função lambda que retorne o valor do argumento multiplicado por ele mesmo"
   ]
  },
  {
   "cell_type": "code",
   "execution_count": null,
   "metadata": {},
   "outputs": [],
   "source": [
    "# Faça aqui"
   ]
  },
  {
   "cell_type": "markdown",
   "metadata": {},
   "source": [
    "#### W1.15 Crie uma função lambda que retorne o último caracter de uma string passada como argumento "
   ]
  },
  {
   "cell_type": "code",
   "execution_count": 1,
   "metadata": {},
   "outputs": [],
   "source": [
    "# Faça aqui"
   ]
  },
  {
   "cell_type": "markdown",
   "metadata": {},
   "source": [
    "#### W1.16 Usando a função do exercício anterior, ordene a lista de strings a seguir. Ou seja, ordene pela ordem alfabética do ultimo caractere. \n",
    "#### Dica: use o argumento key da função str.sort()"
   ]
  },
  {
   "cell_type": "code",
   "execution_count": null,
   "metadata": {},
   "outputs": [],
   "source": [
    "#Considere a lista de strings abaixo\n",
    "strings = ['foo', 'card', 'bar', 'aaa2222a', 'abasb']\n",
    "# Ordene esta lista pelo tamanho das strings usando uma função lambda\n",
    "# Faça aqui\n"
   ]
  },
  {
   "cell_type": "code",
   "execution_count": null,
   "metadata": {},
   "outputs": [],
   "source": []
  },
  {
   "cell_type": "markdown",
   "metadata": {},
   "source": [
    "## Biblioteca Datetime do Python"
   ]
  },
  {
   "cell_type": "code",
   "execution_count": null,
   "metadata": {},
   "outputs": [],
   "source": [
    "from datetime import datetime # Esta biblioteca python realiza diversas operações com datas"
   ]
  },
  {
   "cell_type": "markdown",
   "metadata": {},
   "source": [
    "#### W1.17 Crie um objeto datetime a partir da data '18/09/2021' usando o método strptime"
   ]
  },
  {
   "cell_type": "code",
   "execution_count": null,
   "metadata": {},
   "outputs": [],
   "source": []
  },
  {
   "cell_type": "markdown",
   "metadata": {},
   "source": [
    "## DataFrame"
   ]
  },
  {
   "cell_type": "code",
   "execution_count": null,
   "metadata": {},
   "outputs": [],
   "source": [
    "# Importe as bibliotecas pandas e numpy\n",
    "import pandas as pd\n",
    "import numpy as np"
   ]
  },
  {
   "cell_type": "markdown",
   "metadata": {},
   "source": [
    "#### W1.18 Crie um data frame a partir dos dados do seguinte dicionário. Chame-o de frame"
   ]
  },
  {
   "cell_type": "code",
   "execution_count": null,
   "metadata": {},
   "outputs": [],
   "source": [
    "data = {'state': ['Ohio', 'Ohio', 'Ohio', 'Nevada', 'Nevada', 'Nevada'],\n",
    "'year': [2000, 2001, 2002, 2001, 2002, 2003],\n",
    "'pop': [1.5, 1.7, 3.6, 2.4, 2.9, 3.2]}\n",
    "# Faça aqui\n"
   ]
  },
  {
   "cell_type": "markdown",
   "metadata": {},
   "source": [
    "#### W1.19 Mostre as primeiras linhas do dataframe frame"
   ]
  },
  {
   "cell_type": "code",
   "execution_count": null,
   "metadata": {},
   "outputs": [],
   "source": [
    "# Acesse as primeiras linhas do dataframe df usando a função head\n"
   ]
  },
  {
   "cell_type": "markdown",
   "metadata": {},
   "source": [
    "#### W1.20 rie um DataFrame a partir de um dicionário de dicionários. Chame-o de frame3."
   ]
  },
  {
   "cell_type": "code",
   "execution_count": null,
   "metadata": {},
   "outputs": [],
   "source": [
    "# Crie um Dataframe a partir do seguinte dicionário:\n",
    "pop = {'DF': {2001: 2.7, 2002: 2.8},\n",
    "        'GO': {2000: 1.2, 2001: 1.7, 2002: 2.6}}\n",
    "# Faça aqui\n"
   ]
  },
  {
   "cell_type": "code",
   "execution_count": null,
   "metadata": {},
   "outputs": [],
   "source": []
  },
  {
   "cell_type": "markdown",
   "metadata": {},
   "source": [
    "### Função apply"
   ]
  },
  {
   "cell_type": "markdown",
   "metadata": {},
   "source": [
    "#### W1.21 Execute as instruções solicitadas a seguir."
   ]
  },
  {
   "cell_type": "code",
   "execution_count": null,
   "metadata": {},
   "outputs": [],
   "source": [
    "# Considere o dataframe abaixo\n",
    "frame = pd.DataFrame(np.random.randn(4, 3), columns=list('bde'),\n",
    "                        index=['DF', 'GO', 'SP', 'RJ'])\n",
    "frame"
   ]
  },
  {
   "cell_type": "code",
   "execution_count": null,
   "metadata": {},
   "outputs": [],
   "source": [
    "# Crie uma função lambda para calcular a diferença \n",
    "# entre a média e a mediana de uma Serie, e aplique-a ao dataframe frame, fazendo o cálculo no eixo das linhas\n",
    "\n"
   ]
  },
  {
   "cell_type": "code",
   "execution_count": null,
   "metadata": {},
   "outputs": [],
   "source": [
    "# aplique afunção lambda ao dataframe frame, fazendo o cálculo no eixo das colunas\n",
    "\n"
   ]
  },
  {
   "cell_type": "markdown",
   "metadata": {},
   "source": [
    "### Treinando a função merge (fundir/juntar)"
   ]
  },
  {
   "cell_type": "markdown",
   "metadata": {},
   "source": [
    "#### W1.22 Faça o merge dos dois dataframes a seguir usando como chave de junção a coluna 'key'. Use o argumento how='left'"
   ]
  },
  {
   "cell_type": "code",
   "execution_count": null,
   "metadata": {},
   "outputs": [],
   "source": [
    "# Considere os seguintes DataFrames\n",
    "df1 = pd.DataFrame({'key': ['b', 'b', 'a', 'c', 'a', 'a', 'b'], 'data1': range(7)})\n",
    "df2 = pd.DataFrame({'key': ['a', 'b', 'd'], 'data2': range(3)})"
   ]
  },
  {
   "cell_type": "code",
   "execution_count": null,
   "metadata": {},
   "outputs": [],
   "source": [
    "# Faça aqui\n"
   ]
  },
  {
   "cell_type": "markdown",
   "metadata": {},
   "source": [
    "#### W1.23 Repita o exercício 4.9, mas desta vez utilize o faça o merge de tal forma que apareça no resultado somente os registros que cuja chave esteja presente nos dois dataframes."
   ]
  },
  {
   "cell_type": "code",
   "execution_count": null,
   "metadata": {},
   "outputs": [],
   "source": [
    "# Faça aqui\n"
   ]
  },
  {
   "cell_type": "markdown",
   "metadata": {},
   "source": [
    "### Treinando Reshaping / Pivoting (Pivotar)"
   ]
  },
  {
   "cell_type": "code",
   "execution_count": null,
   "metadata": {},
   "outputs": [],
   "source": [
    "# Considere o seguinte DataFrame\n",
    "table = {\n",
    "    'Aluno': ['AlunoA', 'AlunoA', 'AlunoA', 'AlunoA', 'AlunoB', 'AlunoB', 'AlunoB', 'AlunoB'],\n",
    "    'Disciplina': ['Portugues', 'Matematica', 'Geografia', 'História', 'Portugues', 'Matematica', 'Geografia', 'História'],\n",
    "    'Objetiva': [8.5, 7.5, 9, 10, 8.5, 7.5, 9, 10],\n",
    "    'Discursiva': [6, 6.5, 7.5, 7, 8.5, 7.5, 9, 10]}\n",
    "df_provas = pd.DataFrame(table)"
   ]
  },
  {
   "cell_type": "code",
   "execution_count": null,
   "metadata": {},
   "outputs": [],
   "source": [
    "# Faça aqui\n"
   ]
  },
  {
   "cell_type": "markdown",
   "metadata": {},
   "source": [
    "#### W1.24 Usando o método pivot_table, faça o pivoteamento do dataframe a seguir. Utilize a métrica padrão (mean) sobre a de agregação quando houver valores repetidos com as mesmas chaves na tabela pivotada."
   ]
  },
  {
   "cell_type": "code",
   "execution_count": null,
   "metadata": {},
   "outputs": [],
   "source": [
    "# Considere o seguinte DataFrame\n",
    "table2 = {\n",
    "    'Aluno': ['AlunoA', 'AlunoA', 'AlunoA', 'AlunoA', 'AlunoA', 'AlunoB', 'AlunoB', 'AlunoB', 'AlunoB'],\n",
    "    'Disciplina': ['Portugues', 'Matematica', 'Geografia', 'Geografia', 'História', 'Portugues', 'Matematica', 'Geografia', 'História'],\n",
    "    'Objetiva': [8.5, 7.5, 9, 10, 9, 8.5, 7.5, 9, 10],\n",
    "    'Discursiva': [6, 6.5, 7.5, 7, 8, 8.5, 7.5, 9, 10]}\n",
    "df_provas2 = pd.DataFrame(table2)\n",
    "df_provas2"
   ]
  },
  {
   "cell_type": "code",
   "execution_count": null,
   "metadata": {},
   "outputs": [],
   "source": [
    "# Faça aqui\n"
   ]
  }
 ],
 "metadata": {
  "kernelspec": {
   "display_name": "Python 3",
   "language": "python",
   "name": "python3"
  },
  "language_info": {
   "codemirror_mode": {
    "name": "ipython",
    "version": 3
   },
   "file_extension": ".py",
   "mimetype": "text/x-python",
   "name": "python",
   "nbconvert_exporter": "python",
   "pygments_lexer": "ipython3",
   "version": "3.8.3"
  }
 },
 "nbformat": 4,
 "nbformat_minor": 4
}
