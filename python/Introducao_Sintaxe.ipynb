{
 "cells": [
  {
   "cell_type": "markdown",
   "metadata": {},
   "source": [
    "# Introdução - Explicações sobre a sintaxe da linguagem Python"
   ]
  },
  {
   "cell_type": "markdown",
   "metadata": {},
   "source": [
    "### Dois pontos sinaliza o início de uma sentença composta\n",
    "#### O conteúdo das sentenças compostas é aninhado com espaços/tabs, sem chaves"
   ]
  },
  {
   "cell_type": "code",
   "execution_count": 1,
   "metadata": {},
   "outputs": [],
   "source": [
    "# 1) Criar uma sentença composta (if else)\n",
    "# 2) Mostrar aninhamento com tabulação\n",
    "# 3) ; é opcional\n",
    "# 4) imprimir valores dentro do if else como feedback\n",
    "x = 2\n",
    "if x > 0:\n",
    "      # adiciona 1 a x\n",
    "      x = x + 1;  # Ponto e virgula para finalizar uma sentença é opcional\n",
    "      print(x)\n",
    "      print('x maior que zero')\n",
    "else:\n",
    "      print('x menor ou igual a zero')\n"
   ]
  },
  {
   "cell_type": "markdown",
   "metadata": {},
   "source": [
    "### Laços (loops) do tipo for\n",
    "#### Uma maneira de iterar sobre uma coleção. Usa-se o keyword *in* para referenciar a coleção."
   ]
  },
  {
   "cell_type": "code",
   "execution_count": 13,
   "metadata": {},
   "outputs": [
    {
     "name": "stdout",
     "output_type": "stream",
     "text": [
      "1\n",
      "3\n",
      "3\n",
      "7\n",
      "13\n",
      "13\n"
     ]
    }
   ],
   "source": [
    "# 1) Criar uma sequencia de números inteiros contendo o numero 5 em alguma posição\n",
    "# 2) Fazer um laço para ler os valores de forma sequencial e somá-los até encontrar \n",
    "#     o número 5. Não incluir o número 5 na soma.\n",
    "# 3) Imprimir o valor da soma\n",
    "\n",
    "# val foi um termo escolhido pelo programador\n",
    "\n",
    "sequence = [1, 2, 0, 4, 6, 5, 2, 1]\n",
    "total_until_5 = 0\n",
    "for val in sequence:\n",
    "    if val == 5:\n",
    "        break  # Interrompe um laço/loop/iteração\n",
    "    total_until_5 += val\n",
    "    print(total_until_5)\n",
    "print(total_until_5)"
   ]
  },
  {
   "cell_type": "markdown",
   "metadata": {},
   "source": [
    "#### Usando a função range"
   ]
  },
  {
   "cell_type": "code",
   "execution_count": 5,
   "metadata": {},
   "outputs": [
    {
     "data": {
      "text/plain": [
       "range(0, 3)"
      ]
     },
     "execution_count": 5,
     "metadata": {},
     "output_type": "execute_result"
    }
   ],
   "source": [
    "range(3)"
   ]
  },
  {
   "cell_type": "code",
   "execution_count": 4,
   "metadata": {},
   "outputs": [
    {
     "data": {
      "text/plain": [
       "[0, 1, 2]"
      ]
     },
     "execution_count": 4,
     "metadata": {},
     "output_type": "execute_result"
    }
   ],
   "source": [
    "list(range(3))"
   ]
  },
  {
   "cell_type": "code",
   "execution_count": 1,
   "metadata": {},
   "outputs": [
    {
     "name": "stdout",
     "output_type": "stream",
     "text": [
      "0\n",
      "1\n",
      "4\n"
     ]
    }
   ],
   "source": [
    "for val in range(3):\n",
    "    print(f\"{val*val}\")"
   ]
  },
  {
   "cell_type": "markdown",
   "metadata": {},
   "source": [
    "# Lista em Python"
   ]
  },
  {
   "cell_type": "markdown",
   "metadata": {},
   "source": [
    "### Lista é uma sequência de tamanho variável e conteúdo mutável (alterável)\n",
    "#### Assim como as tuplas, a lista pode conter objetos de vários tipos. Define-se uma lista com colchetes [ ]\n",
    "#### Use append para inserir elementos, pop para remover elementos pelo índice"
   ]
  },
  {
   "cell_type": "code",
   "execution_count": 29,
   "metadata": {},
   "outputs": [
    {
     "name": "stdout",
     "output_type": "stream",
     "text": [
      "[2, 4, 0, None]\n",
      "[2, 4, 0, None, 9]\n",
      "[2, 0, None, 9]\n",
      "[2, None, 9]\n"
     ]
    }
   ],
   "source": [
    "# 1) Criar uma lista com elementos de diferentes tipos. Exemplo: [2, 4, 0, None]\n",
    "# 2) Adicionar um elemento com o método append\n",
    "# 3) Remover e recuperar o elemento de índice 1\n",
    "# 4) Remover o elemento de valor 0\n",
    "\n",
    "al = [2, 4, 0, None]\n",
    "print(al)\n",
    "al.append(9)\n",
    "print(al)\n",
    "al.pop(1) # Remover pelo índice\n",
    "print(al)\n",
    "# Use remove para remover pelo valor\n",
    "al.remove(0)\n",
    "print(al)"
   ]
  }
 ],
 "metadata": {
  "kernelspec": {
   "display_name": "Python 3",
   "language": "python",
   "name": "python3"
  },
  "language_info": {
   "codemirror_mode": {
    "name": "ipython",
    "version": 3
   },
   "file_extension": ".py",
   "mimetype": "text/x-python",
   "name": "python",
   "nbconvert_exporter": "python",
   "pygments_lexer": "ipython3",
   "version": "3.8.3"
  }
 },
 "nbformat": 4,
 "nbformat_minor": 4
}
